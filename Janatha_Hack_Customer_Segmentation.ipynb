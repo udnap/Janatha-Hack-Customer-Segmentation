{
  "nbformat": 4,
  "nbformat_minor": 0,
  "metadata": {
    "colab": {
      "name": "Janatha Hack Customer Segmentation.ipynb",
      "provenance": []
    },
    "kernelspec": {
      "name": "python3",
      "display_name": "Python 3"
    },
    "accelerator": "GPU"
  },
  "cells": [
    {
      "cell_type": "code",
      "metadata": {
        "id": "ZU6DZ5CqlJRj",
        "colab_type": "code",
        "colab": {
          "base_uri": "https://localhost:8080/",
          "height": 118
        },
        "outputId": "5cfe8b0b-5056-45bb-aa40-e59f52b72a25"
      },
      "source": [
        "import pandas as pd\n",
        "import numpy as np\n",
        "import matplotlib.pyplot as plt\n",
        "import seaborn as sns\n",
        "from fancyimpute import KNN\n",
        "from sklearn.preprocessing import OrdinalEncoder"
      ],
      "execution_count": 1,
      "outputs": [
        {
          "output_type": "stream",
          "text": [
            "/usr/local/lib/python3.6/dist-packages/statsmodels/tools/_testing.py:19: FutureWarning: pandas.util.testing is deprecated. Use the functions in the public API at pandas.testing instead.\n",
            "  import pandas.util.testing as tm\n",
            "/usr/local/lib/python3.6/dist-packages/sklearn/externals/six.py:31: FutureWarning: The module is deprecated in version 0.21 and will be removed in version 0.23 since we've dropped support for Python 2.7. Please rely on the official version of six (https://pypi.org/project/six/).\n",
            "  \"(https://pypi.org/project/six/).\", FutureWarning)\n",
            "Using TensorFlow backend.\n"
          ],
          "name": "stderr"
        }
      ]
    },
    {
      "cell_type": "code",
      "metadata": {
        "id": "nXPFgsFvnP2d",
        "colab_type": "code",
        "colab": {
          "base_uri": "https://localhost:8080/",
          "height": 191
        },
        "outputId": "bcafc935-73dc-4cd9-9f3a-485ae67a2e0b"
      },
      "source": [
        "Train = pd.read_csv('/content/Train_aBjfeNk.csv')\n",
        "Test = pd.read_csv('/content/Test_LqhgPWU.csv')\n",
        "Sample_submission = pd.read_csv('/content/sample_submission_wyi0h0z.csv')\n",
        "\n",
        "Train.head()"
      ],
      "execution_count": 2,
      "outputs": [
        {
          "output_type": "execute_result",
          "data": {
            "text/html": [
              "<div>\n",
              "<style scoped>\n",
              "    .dataframe tbody tr th:only-of-type {\n",
              "        vertical-align: middle;\n",
              "    }\n",
              "\n",
              "    .dataframe tbody tr th {\n",
              "        vertical-align: top;\n",
              "    }\n",
              "\n",
              "    .dataframe thead th {\n",
              "        text-align: right;\n",
              "    }\n",
              "</style>\n",
              "<table border=\"1\" class=\"dataframe\">\n",
              "  <thead>\n",
              "    <tr style=\"text-align: right;\">\n",
              "      <th></th>\n",
              "      <th>ID</th>\n",
              "      <th>Gender</th>\n",
              "      <th>Ever_Married</th>\n",
              "      <th>Age</th>\n",
              "      <th>Graduated</th>\n",
              "      <th>Profession</th>\n",
              "      <th>Work_Experience</th>\n",
              "      <th>Spending_Score</th>\n",
              "      <th>Family_Size</th>\n",
              "      <th>Var_1</th>\n",
              "      <th>Segmentation</th>\n",
              "    </tr>\n",
              "  </thead>\n",
              "  <tbody>\n",
              "    <tr>\n",
              "      <th>0</th>\n",
              "      <td>462809</td>\n",
              "      <td>Male</td>\n",
              "      <td>No</td>\n",
              "      <td>22</td>\n",
              "      <td>No</td>\n",
              "      <td>Healthcare</td>\n",
              "      <td>1.0</td>\n",
              "      <td>Low</td>\n",
              "      <td>4.0</td>\n",
              "      <td>Cat_4</td>\n",
              "      <td>D</td>\n",
              "    </tr>\n",
              "    <tr>\n",
              "      <th>1</th>\n",
              "      <td>462643</td>\n",
              "      <td>Female</td>\n",
              "      <td>Yes</td>\n",
              "      <td>38</td>\n",
              "      <td>Yes</td>\n",
              "      <td>Engineer</td>\n",
              "      <td>NaN</td>\n",
              "      <td>Average</td>\n",
              "      <td>3.0</td>\n",
              "      <td>Cat_4</td>\n",
              "      <td>A</td>\n",
              "    </tr>\n",
              "    <tr>\n",
              "      <th>2</th>\n",
              "      <td>466315</td>\n",
              "      <td>Female</td>\n",
              "      <td>Yes</td>\n",
              "      <td>67</td>\n",
              "      <td>Yes</td>\n",
              "      <td>Engineer</td>\n",
              "      <td>1.0</td>\n",
              "      <td>Low</td>\n",
              "      <td>1.0</td>\n",
              "      <td>Cat_6</td>\n",
              "      <td>B</td>\n",
              "    </tr>\n",
              "    <tr>\n",
              "      <th>3</th>\n",
              "      <td>461735</td>\n",
              "      <td>Male</td>\n",
              "      <td>Yes</td>\n",
              "      <td>67</td>\n",
              "      <td>Yes</td>\n",
              "      <td>Lawyer</td>\n",
              "      <td>0.0</td>\n",
              "      <td>High</td>\n",
              "      <td>2.0</td>\n",
              "      <td>Cat_6</td>\n",
              "      <td>B</td>\n",
              "    </tr>\n",
              "    <tr>\n",
              "      <th>4</th>\n",
              "      <td>462669</td>\n",
              "      <td>Female</td>\n",
              "      <td>Yes</td>\n",
              "      <td>40</td>\n",
              "      <td>Yes</td>\n",
              "      <td>Entertainment</td>\n",
              "      <td>NaN</td>\n",
              "      <td>High</td>\n",
              "      <td>6.0</td>\n",
              "      <td>Cat_6</td>\n",
              "      <td>A</td>\n",
              "    </tr>\n",
              "  </tbody>\n",
              "</table>\n",
              "</div>"
            ],
            "text/plain": [
              "       ID  Gender Ever_Married  ...  Family_Size  Var_1 Segmentation\n",
              "0  462809    Male           No  ...          4.0  Cat_4            D\n",
              "1  462643  Female          Yes  ...          3.0  Cat_4            A\n",
              "2  466315  Female          Yes  ...          1.0  Cat_6            B\n",
              "3  461735    Male          Yes  ...          2.0  Cat_6            B\n",
              "4  462669  Female          Yes  ...          6.0  Cat_6            A\n",
              "\n",
              "[5 rows x 11 columns]"
            ]
          },
          "metadata": {
            "tags": []
          },
          "execution_count": 2
        }
      ]
    },
    {
      "cell_type": "code",
      "metadata": {
        "id": "_g-KTqMeno93",
        "colab_type": "code",
        "colab": {}
      },
      "source": [
        "ID_main = Test['ID']\n",
        "Test = Test.drop(labels='ID', axis=1)"
      ],
      "execution_count": 3,
      "outputs": []
    },
    {
      "cell_type": "code",
      "metadata": {
        "id": "aivJRfkSn54C",
        "colab_type": "code",
        "colab": {
          "base_uri": "https://localhost:8080/",
          "height": 212
        },
        "outputId": "8a6b3f17-2163-4b98-c05b-5ce28fe81aae"
      },
      "source": [
        "Train.isnull().sum()"
      ],
      "execution_count": 4,
      "outputs": [
        {
          "output_type": "execute_result",
          "data": {
            "text/plain": [
              "ID                   0\n",
              "Gender               0\n",
              "Ever_Married       140\n",
              "Age                  0\n",
              "Graduated           78\n",
              "Profession         124\n",
              "Work_Experience    829\n",
              "Spending_Score       0\n",
              "Family_Size        335\n",
              "Var_1               76\n",
              "Segmentation         0\n",
              "dtype: int64"
            ]
          },
          "metadata": {
            "tags": []
          },
          "execution_count": 4
        }
      ]
    },
    {
      "cell_type": "code",
      "metadata": {
        "id": "xz1jpbfKvIuA",
        "colab_type": "code",
        "colab": {}
      },
      "source": [
        "pd.options.display.max_columns = None"
      ],
      "execution_count": 5,
      "outputs": []
    },
    {
      "cell_type": "code",
      "metadata": {
        "id": "8O474kBBvWOc",
        "colab_type": "code",
        "colab": {
          "base_uri": "https://localhost:8080/",
          "height": 310
        },
        "outputId": "9fdb5d45-6b3e-4322-bd8f-9a80702fc260"
      },
      "source": [
        "Train.info()"
      ],
      "execution_count": 6,
      "outputs": [
        {
          "output_type": "stream",
          "text": [
            "<class 'pandas.core.frame.DataFrame'>\n",
            "RangeIndex: 8068 entries, 0 to 8067\n",
            "Data columns (total 11 columns):\n",
            " #   Column           Non-Null Count  Dtype  \n",
            "---  ------           --------------  -----  \n",
            " 0   ID               8068 non-null   int64  \n",
            " 1   Gender           8068 non-null   object \n",
            " 2   Ever_Married     7928 non-null   object \n",
            " 3   Age              8068 non-null   int64  \n",
            " 4   Graduated        7990 non-null   object \n",
            " 5   Profession       7944 non-null   object \n",
            " 6   Work_Experience  7239 non-null   float64\n",
            " 7   Spending_Score   8068 non-null   object \n",
            " 8   Family_Size      7733 non-null   float64\n",
            " 9   Var_1            7992 non-null   object \n",
            " 10  Segmentation     8068 non-null   object \n",
            "dtypes: float64(2), int64(2), object(7)\n",
            "memory usage: 693.5+ KB\n"
          ],
          "name": "stdout"
        }
      ]
    },
    {
      "cell_type": "code",
      "metadata": {
        "id": "f-4QnjGavYKE",
        "colab_type": "code",
        "colab": {}
      },
      "source": [
        "# Categorical Columns to be encoded ['Gender','Ever_Married','Graduated','Profession','Spending_Score','Var_1']\n",
        "# Categorical Clomuns to be Imputed ['Ever_Married','Graduated','Profession','Work_Experience','Family_Size','Var_1']"
      ],
      "execution_count": 7,
      "outputs": []
    },
    {
      "cell_type": "code",
      "metadata": {
        "id": "A2o_crcjzWpJ",
        "colab_type": "code",
        "colab": {}
      },
      "source": [
        "impute_data = pd.read_csv('/content/Train_aBjfeNk.csv')\n",
        "impute_data = impute_data.drop(labels='Segmentation', axis=1)"
      ],
      "execution_count": 8,
      "outputs": []
    },
    {
      "cell_type": "code",
      "metadata": {
        "id": "ANemH0ASwM10",
        "colab_type": "code",
        "colab": {
          "base_uri": "https://localhost:8080/",
          "height": 505
        },
        "outputId": "14420386-aaaf-4ba6-a626-b0744973fa78"
      },
      "source": [
        "#instantiate both packages to use\n",
        "encoder = OrdinalEncoder()\n",
        "imputer = KNN()\n",
        "# create a list of categorical columns to iterate over\n",
        "cat_cols = ['Gender','Ever_Married','Graduated','Profession','Spending_Score','Var_1']\n",
        "\n",
        "def encode(data):\n",
        "    '''function to encode non-null data and replace it in the original data'''\n",
        "    #retains only non-null values\n",
        "    nonulls = np.array(data.dropna())\n",
        "    #reshapes the data for encoding\n",
        "    impute_reshape = nonulls.reshape(-1,1)\n",
        "    #encode date\n",
        "    impute_ordinal = encoder.fit_transform(impute_reshape)\n",
        "    #Assign back encoded values to non-null values\n",
        "    data.loc[data.notnull()] = np.squeeze(impute_ordinal)\n",
        "    return data\n",
        "\n",
        "#create a for loop to iterate through each column in the data\n",
        "for columns in cat_cols:\n",
        "    encode(impute_data[columns])"
      ],
      "execution_count": 9,
      "outputs": [
        {
          "output_type": "stream",
          "text": [
            "/usr/local/lib/python3.6/dist-packages/pandas/core/indexing.py:671: SettingWithCopyWarning: \n",
            "A value is trying to be set on a copy of a slice from a DataFrame\n",
            "\n",
            "See the caveats in the documentation: https://pandas.pydata.org/pandas-docs/stable/user_guide/indexing.html#returning-a-view-versus-a-copy\n",
            "  self._setitem_with_indexer(indexer, value)\n",
            "/usr/local/lib/python3.6/dist-packages/pandas/core/indexing.py:671: SettingWithCopyWarning: \n",
            "A value is trying to be set on a copy of a slice from a DataFrame\n",
            "\n",
            "See the caveats in the documentation: https://pandas.pydata.org/pandas-docs/stable/user_guide/indexing.html#returning-a-view-versus-a-copy\n",
            "  self._setitem_with_indexer(indexer, value)\n",
            "/usr/local/lib/python3.6/dist-packages/pandas/core/indexing.py:671: SettingWithCopyWarning: \n",
            "A value is trying to be set on a copy of a slice from a DataFrame\n",
            "\n",
            "See the caveats in the documentation: https://pandas.pydata.org/pandas-docs/stable/user_guide/indexing.html#returning-a-view-versus-a-copy\n",
            "  self._setitem_with_indexer(indexer, value)\n",
            "/usr/local/lib/python3.6/dist-packages/pandas/core/indexing.py:671: SettingWithCopyWarning: \n",
            "A value is trying to be set on a copy of a slice from a DataFrame\n",
            "\n",
            "See the caveats in the documentation: https://pandas.pydata.org/pandas-docs/stable/user_guide/indexing.html#returning-a-view-versus-a-copy\n",
            "  self._setitem_with_indexer(indexer, value)\n",
            "/usr/local/lib/python3.6/dist-packages/pandas/core/indexing.py:671: SettingWithCopyWarning: \n",
            "A value is trying to be set on a copy of a slice from a DataFrame\n",
            "\n",
            "See the caveats in the documentation: https://pandas.pydata.org/pandas-docs/stable/user_guide/indexing.html#returning-a-view-versus-a-copy\n",
            "  self._setitem_with_indexer(indexer, value)\n",
            "/usr/local/lib/python3.6/dist-packages/pandas/core/indexing.py:671: SettingWithCopyWarning: \n",
            "A value is trying to be set on a copy of a slice from a DataFrame\n",
            "\n",
            "See the caveats in the documentation: https://pandas.pydata.org/pandas-docs/stable/user_guide/indexing.html#returning-a-view-versus-a-copy\n",
            "  self._setitem_with_indexer(indexer, value)\n"
          ],
          "name": "stderr"
        }
      ]
    },
    {
      "cell_type": "code",
      "metadata": {
        "id": "fHSMTQEhxWrW",
        "colab_type": "code",
        "colab": {
          "base_uri": "https://localhost:8080/",
          "height": 391
        },
        "outputId": "1164e84d-4795-4d8f-c4ee-86c0019c0a2b"
      },
      "source": [
        "impute_data"
      ],
      "execution_count": 10,
      "outputs": [
        {
          "output_type": "execute_result",
          "data": {
            "text/html": [
              "<div>\n",
              "<style scoped>\n",
              "    .dataframe tbody tr th:only-of-type {\n",
              "        vertical-align: middle;\n",
              "    }\n",
              "\n",
              "    .dataframe tbody tr th {\n",
              "        vertical-align: top;\n",
              "    }\n",
              "\n",
              "    .dataframe thead th {\n",
              "        text-align: right;\n",
              "    }\n",
              "</style>\n",
              "<table border=\"1\" class=\"dataframe\">\n",
              "  <thead>\n",
              "    <tr style=\"text-align: right;\">\n",
              "      <th></th>\n",
              "      <th>ID</th>\n",
              "      <th>Gender</th>\n",
              "      <th>Ever_Married</th>\n",
              "      <th>Age</th>\n",
              "      <th>Graduated</th>\n",
              "      <th>Profession</th>\n",
              "      <th>Work_Experience</th>\n",
              "      <th>Spending_Score</th>\n",
              "      <th>Family_Size</th>\n",
              "      <th>Var_1</th>\n",
              "    </tr>\n",
              "  </thead>\n",
              "  <tbody>\n",
              "    <tr>\n",
              "      <th>0</th>\n",
              "      <td>462809</td>\n",
              "      <td>1.0</td>\n",
              "      <td>0</td>\n",
              "      <td>22</td>\n",
              "      <td>0</td>\n",
              "      <td>5</td>\n",
              "      <td>1.0</td>\n",
              "      <td>2.0</td>\n",
              "      <td>4.0</td>\n",
              "      <td>3</td>\n",
              "    </tr>\n",
              "    <tr>\n",
              "      <th>1</th>\n",
              "      <td>462643</td>\n",
              "      <td>0.0</td>\n",
              "      <td>1</td>\n",
              "      <td>38</td>\n",
              "      <td>1</td>\n",
              "      <td>2</td>\n",
              "      <td>NaN</td>\n",
              "      <td>0.0</td>\n",
              "      <td>3.0</td>\n",
              "      <td>3</td>\n",
              "    </tr>\n",
              "    <tr>\n",
              "      <th>2</th>\n",
              "      <td>466315</td>\n",
              "      <td>0.0</td>\n",
              "      <td>1</td>\n",
              "      <td>67</td>\n",
              "      <td>1</td>\n",
              "      <td>2</td>\n",
              "      <td>1.0</td>\n",
              "      <td>2.0</td>\n",
              "      <td>1.0</td>\n",
              "      <td>5</td>\n",
              "    </tr>\n",
              "    <tr>\n",
              "      <th>3</th>\n",
              "      <td>461735</td>\n",
              "      <td>1.0</td>\n",
              "      <td>1</td>\n",
              "      <td>67</td>\n",
              "      <td>1</td>\n",
              "      <td>7</td>\n",
              "      <td>0.0</td>\n",
              "      <td>1.0</td>\n",
              "      <td>2.0</td>\n",
              "      <td>5</td>\n",
              "    </tr>\n",
              "    <tr>\n",
              "      <th>4</th>\n",
              "      <td>462669</td>\n",
              "      <td>0.0</td>\n",
              "      <td>1</td>\n",
              "      <td>40</td>\n",
              "      <td>1</td>\n",
              "      <td>3</td>\n",
              "      <td>NaN</td>\n",
              "      <td>1.0</td>\n",
              "      <td>6.0</td>\n",
              "      <td>5</td>\n",
              "    </tr>\n",
              "    <tr>\n",
              "      <th>...</th>\n",
              "      <td>...</td>\n",
              "      <td>...</td>\n",
              "      <td>...</td>\n",
              "      <td>...</td>\n",
              "      <td>...</td>\n",
              "      <td>...</td>\n",
              "      <td>...</td>\n",
              "      <td>...</td>\n",
              "      <td>...</td>\n",
              "      <td>...</td>\n",
              "    </tr>\n",
              "    <tr>\n",
              "      <th>8063</th>\n",
              "      <td>464018</td>\n",
              "      <td>1.0</td>\n",
              "      <td>0</td>\n",
              "      <td>22</td>\n",
              "      <td>0</td>\n",
              "      <td>NaN</td>\n",
              "      <td>0.0</td>\n",
              "      <td>2.0</td>\n",
              "      <td>7.0</td>\n",
              "      <td>0</td>\n",
              "    </tr>\n",
              "    <tr>\n",
              "      <th>8064</th>\n",
              "      <td>464685</td>\n",
              "      <td>1.0</td>\n",
              "      <td>0</td>\n",
              "      <td>35</td>\n",
              "      <td>0</td>\n",
              "      <td>4</td>\n",
              "      <td>3.0</td>\n",
              "      <td>2.0</td>\n",
              "      <td>4.0</td>\n",
              "      <td>3</td>\n",
              "    </tr>\n",
              "    <tr>\n",
              "      <th>8065</th>\n",
              "      <td>465406</td>\n",
              "      <td>0.0</td>\n",
              "      <td>0</td>\n",
              "      <td>33</td>\n",
              "      <td>1</td>\n",
              "      <td>5</td>\n",
              "      <td>1.0</td>\n",
              "      <td>2.0</td>\n",
              "      <td>1.0</td>\n",
              "      <td>5</td>\n",
              "    </tr>\n",
              "    <tr>\n",
              "      <th>8066</th>\n",
              "      <td>467299</td>\n",
              "      <td>0.0</td>\n",
              "      <td>0</td>\n",
              "      <td>27</td>\n",
              "      <td>1</td>\n",
              "      <td>5</td>\n",
              "      <td>1.0</td>\n",
              "      <td>2.0</td>\n",
              "      <td>4.0</td>\n",
              "      <td>5</td>\n",
              "    </tr>\n",
              "    <tr>\n",
              "      <th>8067</th>\n",
              "      <td>461879</td>\n",
              "      <td>1.0</td>\n",
              "      <td>1</td>\n",
              "      <td>37</td>\n",
              "      <td>1</td>\n",
              "      <td>4</td>\n",
              "      <td>0.0</td>\n",
              "      <td>0.0</td>\n",
              "      <td>3.0</td>\n",
              "      <td>3</td>\n",
              "    </tr>\n",
              "  </tbody>\n",
              "</table>\n",
              "<p>8068 rows × 10 columns</p>\n",
              "</div>"
            ],
            "text/plain": [
              "          ID  Gender Ever_Married  Age Graduated Profession  Work_Experience  \\\n",
              "0     462809     1.0            0   22         0          5              1.0   \n",
              "1     462643     0.0            1   38         1          2              NaN   \n",
              "2     466315     0.0            1   67         1          2              1.0   \n",
              "3     461735     1.0            1   67         1          7              0.0   \n",
              "4     462669     0.0            1   40         1          3              NaN   \n",
              "...      ...     ...          ...  ...       ...        ...              ...   \n",
              "8063  464018     1.0            0   22         0        NaN              0.0   \n",
              "8064  464685     1.0            0   35         0          4              3.0   \n",
              "8065  465406     0.0            0   33         1          5              1.0   \n",
              "8066  467299     0.0            0   27         1          5              1.0   \n",
              "8067  461879     1.0            1   37         1          4              0.0   \n",
              "\n",
              "      Spending_Score  Family_Size Var_1  \n",
              "0                2.0          4.0     3  \n",
              "1                0.0          3.0     3  \n",
              "2                2.0          1.0     5  \n",
              "3                1.0          2.0     5  \n",
              "4                1.0          6.0     5  \n",
              "...              ...          ...   ...  \n",
              "8063             2.0          7.0     0  \n",
              "8064             2.0          4.0     3  \n",
              "8065             2.0          1.0     5  \n",
              "8066             2.0          4.0     5  \n",
              "8067             0.0          3.0     3  \n",
              "\n",
              "[8068 rows x 10 columns]"
            ]
          },
          "metadata": {
            "tags": []
          },
          "execution_count": 10
        }
      ]
    },
    {
      "cell_type": "code",
      "metadata": {
        "id": "WH3ckbif0IGH",
        "colab_type": "code",
        "colab": {
          "base_uri": "https://localhost:8080/",
          "height": 1000
        },
        "outputId": "83339d8c-54c1-400f-d1e2-cdbf83dafe1f"
      },
      "source": [
        "encode_data = pd.DataFrame(np.round(imputer.fit_transform(impute_data)),columns = impute_data.columns)"
      ],
      "execution_count": 11,
      "outputs": [
        {
          "output_type": "stream",
          "text": [
            "Imputing row 1/8068 with 0 missing, elapsed time: 11.229\n",
            "Imputing row 101/8068 with 0 missing, elapsed time: 11.231\n",
            "Imputing row 201/8068 with 0 missing, elapsed time: 11.233\n",
            "Imputing row 301/8068 with 1 missing, elapsed time: 11.235\n",
            "Imputing row 401/8068 with 0 missing, elapsed time: 11.237\n",
            "Imputing row 501/8068 with 0 missing, elapsed time: 11.239\n",
            "Imputing row 601/8068 with 0 missing, elapsed time: 11.241\n",
            "Imputing row 701/8068 with 0 missing, elapsed time: 11.243\n",
            "Imputing row 801/8068 with 0 missing, elapsed time: 11.245\n",
            "Imputing row 901/8068 with 0 missing, elapsed time: 11.248\n",
            "Imputing row 1001/8068 with 0 missing, elapsed time: 11.250\n",
            "Imputing row 1101/8068 with 0 missing, elapsed time: 11.252\n",
            "Imputing row 1201/8068 with 0 missing, elapsed time: 11.253\n",
            "Imputing row 1301/8068 with 0 missing, elapsed time: 11.255\n",
            "Imputing row 1401/8068 with 0 missing, elapsed time: 11.257\n",
            "Imputing row 1501/8068 with 0 missing, elapsed time: 11.259\n",
            "Imputing row 1601/8068 with 1 missing, elapsed time: 11.261\n",
            "Imputing row 1701/8068 with 0 missing, elapsed time: 11.262\n",
            "Imputing row 1801/8068 with 0 missing, elapsed time: 11.265\n",
            "Imputing row 1901/8068 with 1 missing, elapsed time: 11.266\n",
            "Imputing row 2001/8068 with 1 missing, elapsed time: 11.268\n",
            "Imputing row 2101/8068 with 0 missing, elapsed time: 11.270\n",
            "Imputing row 2201/8068 with 0 missing, elapsed time: 11.272\n",
            "Imputing row 2301/8068 with 0 missing, elapsed time: 11.274\n",
            "Imputing row 2401/8068 with 0 missing, elapsed time: 11.276\n",
            "Imputing row 2501/8068 with 0 missing, elapsed time: 11.278\n",
            "Imputing row 2601/8068 with 1 missing, elapsed time: 11.280\n",
            "Imputing row 2701/8068 with 0 missing, elapsed time: 11.282\n",
            "Imputing row 2801/8068 with 0 missing, elapsed time: 11.284\n",
            "Imputing row 2901/8068 with 1 missing, elapsed time: 11.286\n",
            "Imputing row 3001/8068 with 0 missing, elapsed time: 11.288\n",
            "Imputing row 3101/8068 with 0 missing, elapsed time: 11.290\n",
            "Imputing row 3201/8068 with 0 missing, elapsed time: 11.292\n",
            "Imputing row 3301/8068 with 0 missing, elapsed time: 11.294\n",
            "Imputing row 3401/8068 with 0 missing, elapsed time: 11.297\n",
            "Imputing row 3501/8068 with 1 missing, elapsed time: 11.298\n",
            "Imputing row 3601/8068 with 0 missing, elapsed time: 11.300\n",
            "Imputing row 3701/8068 with 0 missing, elapsed time: 11.302\n",
            "Imputing row 3801/8068 with 0 missing, elapsed time: 11.304\n",
            "Imputing row 3901/8068 with 0 missing, elapsed time: 11.306\n",
            "Imputing row 4001/8068 with 0 missing, elapsed time: 11.308\n",
            "Imputing row 4101/8068 with 0 missing, elapsed time: 11.310\n",
            "Imputing row 4201/8068 with 0 missing, elapsed time: 11.312\n",
            "Imputing row 4301/8068 with 0 missing, elapsed time: 11.313\n",
            "Imputing row 4401/8068 with 0 missing, elapsed time: 11.316\n",
            "Imputing row 4501/8068 with 0 missing, elapsed time: 11.318\n",
            "Imputing row 4601/8068 with 0 missing, elapsed time: 11.320\n",
            "Imputing row 4701/8068 with 2 missing, elapsed time: 11.322\n",
            "Imputing row 4801/8068 with 0 missing, elapsed time: 11.324\n",
            "Imputing row 4901/8068 with 0 missing, elapsed time: 11.325\n",
            "Imputing row 5001/8068 with 0 missing, elapsed time: 11.327\n",
            "Imputing row 5101/8068 with 0 missing, elapsed time: 11.329\n",
            "Imputing row 5201/8068 with 0 missing, elapsed time: 11.331\n",
            "Imputing row 5301/8068 with 0 missing, elapsed time: 11.333\n",
            "Imputing row 5401/8068 with 0 missing, elapsed time: 11.335\n",
            "Imputing row 5501/8068 with 0 missing, elapsed time: 11.337\n",
            "Imputing row 5601/8068 with 0 missing, elapsed time: 11.339\n",
            "Imputing row 5701/8068 with 0 missing, elapsed time: 11.341\n",
            "Imputing row 5801/8068 with 0 missing, elapsed time: 11.343\n",
            "Imputing row 5901/8068 with 0 missing, elapsed time: 11.346\n",
            "Imputing row 6001/8068 with 0 missing, elapsed time: 11.347\n",
            "Imputing row 6101/8068 with 0 missing, elapsed time: 11.349\n",
            "Imputing row 6201/8068 with 0 missing, elapsed time: 11.351\n",
            "Imputing row 6301/8068 with 0 missing, elapsed time: 11.353\n",
            "Imputing row 6401/8068 with 0 missing, elapsed time: 11.355\n",
            "Imputing row 6501/8068 with 1 missing, elapsed time: 11.357\n",
            "Imputing row 6601/8068 with 1 missing, elapsed time: 11.359\n",
            "Imputing row 6701/8068 with 1 missing, elapsed time: 11.361\n",
            "Imputing row 6801/8068 with 0 missing, elapsed time: 11.363\n",
            "Imputing row 6901/8068 with 0 missing, elapsed time: 11.365\n",
            "Imputing row 7001/8068 with 0 missing, elapsed time: 11.367\n",
            "Imputing row 7101/8068 with 0 missing, elapsed time: 11.369\n",
            "Imputing row 7201/8068 with 0 missing, elapsed time: 11.371\n",
            "Imputing row 7301/8068 with 1 missing, elapsed time: 11.373\n",
            "Imputing row 7401/8068 with 1 missing, elapsed time: 11.375\n",
            "Imputing row 7501/8068 with 0 missing, elapsed time: 11.378\n",
            "Imputing row 7601/8068 with 0 missing, elapsed time: 11.381\n",
            "Imputing row 7701/8068 with 0 missing, elapsed time: 11.382\n",
            "Imputing row 7801/8068 with 0 missing, elapsed time: 11.384\n",
            "Imputing row 7901/8068 with 0 missing, elapsed time: 11.386\n",
            "Imputing row 8001/8068 with 0 missing, elapsed time: 11.388\n"
          ],
          "name": "stdout"
        }
      ]
    },
    {
      "cell_type": "code",
      "metadata": {
        "id": "0YoBbIpt0n75",
        "colab_type": "code",
        "colab": {
          "base_uri": "https://localhost:8080/",
          "height": 196
        },
        "outputId": "3db80681-8240-43f1-d25b-84ab6270ad38"
      },
      "source": [
        "encode_data.isnull().sum()"
      ],
      "execution_count": 12,
      "outputs": [
        {
          "output_type": "execute_result",
          "data": {
            "text/plain": [
              "ID                 0\n",
              "Gender             0\n",
              "Ever_Married       0\n",
              "Age                0\n",
              "Graduated          0\n",
              "Profession         0\n",
              "Work_Experience    0\n",
              "Spending_Score     0\n",
              "Family_Size        0\n",
              "Var_1              0\n",
              "dtype: int64"
            ]
          },
          "metadata": {
            "tags": []
          },
          "execution_count": 12
        }
      ]
    },
    {
      "cell_type": "code",
      "metadata": {
        "id": "8VObAKux1HMn",
        "colab_type": "code",
        "colab": {
          "base_uri": "https://localhost:8080/",
          "height": 33
        },
        "outputId": "668af1d4-3cd9-4621-90db-66b50e3fc496"
      },
      "source": [
        "yTrain = Train['Segmentation']\n",
        "xTrain = encode_data.drop(labels='ID', axis=1)\n",
        "\n",
        "yTrain.shape, xTrain.shape"
      ],
      "execution_count": 13,
      "outputs": [
        {
          "output_type": "execute_result",
          "data": {
            "text/plain": [
              "((8068,), (8068, 9))"
            ]
          },
          "metadata": {
            "tags": []
          },
          "execution_count": 13
        }
      ]
    },
    {
      "cell_type": "code",
      "metadata": {
        "id": "i5p6JTYY1x9r",
        "colab_type": "code",
        "colab": {}
      },
      "source": [
        "from sklearn.model_selection import train_test_split\n",
        "from xgboost import XGBClassifier\n",
        "from sklearn.metrics import accuracy_score\n",
        "\n",
        "X_train, X_valid, y_train, y_valid = train_test_split(xTrain,yTrain, test_size=0.3,random_state=1) "
      ],
      "execution_count": 14,
      "outputs": []
    },
    {
      "cell_type": "code",
      "metadata": {
        "id": "FsANP0Dm2VWV",
        "colab_type": "code",
        "colab": {}
      },
      "source": [
        "xgb = XGBClassifier()\n",
        "xgb.fit(X_train, y_train)\n",
        "y_pred = xgb.predict(X_valid)\n",
        "\n",
        "acc = accuracy_score(y_pred, y_valid)"
      ],
      "execution_count": 15,
      "outputs": []
    },
    {
      "cell_type": "code",
      "metadata": {
        "id": "rAw1YOtm257f",
        "colab_type": "code",
        "colab": {
          "base_uri": "https://localhost:8080/",
          "height": 33
        },
        "outputId": "c0d072b0-ec43-4a21-a393-dc36fa4982d0"
      },
      "source": [
        "acc"
      ],
      "execution_count": 16,
      "outputs": [
        {
          "output_type": "execute_result",
          "data": {
            "text/plain": [
              "0.5373812474184222"
            ]
          },
          "metadata": {
            "tags": []
          },
          "execution_count": 16
        }
      ]
    },
    {
      "cell_type": "code",
      "metadata": {
        "id": "NnGj11CG3Cvr",
        "colab_type": "code",
        "colab": {
          "base_uri": "https://localhost:8080/",
          "height": 33
        },
        "outputId": "4e3281ef-5568-4747-dede-3d584cf0f424"
      },
      "source": [
        "from sklearn.ensemble import RandomForestClassifier\n",
        "\n",
        "rfc = RandomForestClassifier()\n",
        "rfc.fit(X_train, y_train)\n",
        "y_pred1 = xgb.predict(X_valid)\n",
        "\n",
        "acc1 = accuracy_score(y_pred1, y_valid)\n",
        "\n",
        "acc1\n"
      ],
      "execution_count": 17,
      "outputs": [
        {
          "output_type": "execute_result",
          "data": {
            "text/plain": [
              "0.5373812474184222"
            ]
          },
          "metadata": {
            "tags": []
          },
          "execution_count": 17
        }
      ]
    },
    {
      "cell_type": "code",
      "metadata": {
        "id": "NCy2bcKw3iZo",
        "colab_type": "code",
        "colab": {
          "base_uri": "https://localhost:8080/",
          "height": 335
        },
        "outputId": "57fad82c-dd8c-461f-ba15-660bd31a173e"
      },
      "source": [
        "encode_data.corr()"
      ],
      "execution_count": 18,
      "outputs": [
        {
          "output_type": "execute_result",
          "data": {
            "text/html": [
              "<div>\n",
              "<style scoped>\n",
              "    .dataframe tbody tr th:only-of-type {\n",
              "        vertical-align: middle;\n",
              "    }\n",
              "\n",
              "    .dataframe tbody tr th {\n",
              "        vertical-align: top;\n",
              "    }\n",
              "\n",
              "    .dataframe thead th {\n",
              "        text-align: right;\n",
              "    }\n",
              "</style>\n",
              "<table border=\"1\" class=\"dataframe\">\n",
              "  <thead>\n",
              "    <tr style=\"text-align: right;\">\n",
              "      <th></th>\n",
              "      <th>ID</th>\n",
              "      <th>Gender</th>\n",
              "      <th>Ever_Married</th>\n",
              "      <th>Age</th>\n",
              "      <th>Graduated</th>\n",
              "      <th>Profession</th>\n",
              "      <th>Work_Experience</th>\n",
              "      <th>Spending_Score</th>\n",
              "      <th>Family_Size</th>\n",
              "      <th>Var_1</th>\n",
              "    </tr>\n",
              "  </thead>\n",
              "  <tbody>\n",
              "    <tr>\n",
              "      <th>ID</th>\n",
              "      <td>1.000000</td>\n",
              "      <td>0.006155</td>\n",
              "      <td>0.020881</td>\n",
              "      <td>-0.005055</td>\n",
              "      <td>-0.012452</td>\n",
              "      <td>-0.001738</td>\n",
              "      <td>-0.026622</td>\n",
              "      <td>-0.018949</td>\n",
              "      <td>0.012567</td>\n",
              "      <td>-0.002053</td>\n",
              "    </tr>\n",
              "    <tr>\n",
              "      <th>Gender</th>\n",
              "      <td>0.006155</td>\n",
              "      <td>1.000000</td>\n",
              "      <td>0.114073</td>\n",
              "      <td>0.030216</td>\n",
              "      <td>-0.034145</td>\n",
              "      <td>0.025572</td>\n",
              "      <td>-0.060100</td>\n",
              "      <td>-0.054261</td>\n",
              "      <td>0.054983</td>\n",
              "      <td>0.030552</td>\n",
              "    </tr>\n",
              "    <tr>\n",
              "      <th>Ever_Married</th>\n",
              "      <td>0.020881</td>\n",
              "      <td>0.114073</td>\n",
              "      <td>1.000000</td>\n",
              "      <td>0.569606</td>\n",
              "      <td>0.200540</td>\n",
              "      <td>-0.141169</td>\n",
              "      <td>-0.099494</td>\n",
              "      <td>-0.626437</td>\n",
              "      <td>-0.081666</td>\n",
              "      <td>0.085389</td>\n",
              "    </tr>\n",
              "    <tr>\n",
              "      <th>Age</th>\n",
              "      <td>-0.005055</td>\n",
              "      <td>0.030216</td>\n",
              "      <td>0.569606</td>\n",
              "      <td>1.000000</td>\n",
              "      <td>0.236602</td>\n",
              "      <td>0.039755</td>\n",
              "      <td>-0.196658</td>\n",
              "      <td>-0.269544</td>\n",
              "      <td>-0.284784</td>\n",
              "      <td>0.168863</td>\n",
              "    </tr>\n",
              "    <tr>\n",
              "      <th>Graduated</th>\n",
              "      <td>-0.012452</td>\n",
              "      <td>-0.034145</td>\n",
              "      <td>0.200540</td>\n",
              "      <td>0.236602</td>\n",
              "      <td>1.000000</td>\n",
              "      <td>-0.298892</td>\n",
              "      <td>0.025257</td>\n",
              "      <td>-0.153570</td>\n",
              "      <td>-0.228522</td>\n",
              "      <td>0.126231</td>\n",
              "    </tr>\n",
              "    <tr>\n",
              "      <th>Profession</th>\n",
              "      <td>-0.001738</td>\n",
              "      <td>0.025572</td>\n",
              "      <td>-0.141169</td>\n",
              "      <td>0.039755</td>\n",
              "      <td>-0.298892</td>\n",
              "      <td>1.000000</td>\n",
              "      <td>-0.022210</td>\n",
              "      <td>0.230166</td>\n",
              "      <td>0.086263</td>\n",
              "      <td>-0.042973</td>\n",
              "    </tr>\n",
              "    <tr>\n",
              "      <th>Work_Experience</th>\n",
              "      <td>-0.026622</td>\n",
              "      <td>-0.060100</td>\n",
              "      <td>-0.099494</td>\n",
              "      <td>-0.196658</td>\n",
              "      <td>0.025257</td>\n",
              "      <td>-0.022210</td>\n",
              "      <td>1.000000</td>\n",
              "      <td>0.049236</td>\n",
              "      <td>-0.055549</td>\n",
              "      <td>0.017256</td>\n",
              "    </tr>\n",
              "    <tr>\n",
              "      <th>Spending_Score</th>\n",
              "      <td>-0.018949</td>\n",
              "      <td>-0.054261</td>\n",
              "      <td>-0.626437</td>\n",
              "      <td>-0.269544</td>\n",
              "      <td>-0.153570</td>\n",
              "      <td>0.230166</td>\n",
              "      <td>0.049236</td>\n",
              "      <td>1.000000</td>\n",
              "      <td>-0.111089</td>\n",
              "      <td>-0.033157</td>\n",
              "    </tr>\n",
              "    <tr>\n",
              "      <th>Family_Size</th>\n",
              "      <td>0.012567</td>\n",
              "      <td>0.054983</td>\n",
              "      <td>-0.081666</td>\n",
              "      <td>-0.284784</td>\n",
              "      <td>-0.228522</td>\n",
              "      <td>0.086263</td>\n",
              "      <td>-0.055549</td>\n",
              "      <td>-0.111089</td>\n",
              "      <td>1.000000</td>\n",
              "      <td>-0.144522</td>\n",
              "    </tr>\n",
              "    <tr>\n",
              "      <th>Var_1</th>\n",
              "      <td>-0.002053</td>\n",
              "      <td>0.030552</td>\n",
              "      <td>0.085389</td>\n",
              "      <td>0.168863</td>\n",
              "      <td>0.126231</td>\n",
              "      <td>-0.042973</td>\n",
              "      <td>0.017256</td>\n",
              "      <td>-0.033157</td>\n",
              "      <td>-0.144522</td>\n",
              "      <td>1.000000</td>\n",
              "    </tr>\n",
              "  </tbody>\n",
              "</table>\n",
              "</div>"
            ],
            "text/plain": [
              "                       ID    Gender  Ever_Married       Age  Graduated  \\\n",
              "ID               1.000000  0.006155      0.020881 -0.005055  -0.012452   \n",
              "Gender           0.006155  1.000000      0.114073  0.030216  -0.034145   \n",
              "Ever_Married     0.020881  0.114073      1.000000  0.569606   0.200540   \n",
              "Age             -0.005055  0.030216      0.569606  1.000000   0.236602   \n",
              "Graduated       -0.012452 -0.034145      0.200540  0.236602   1.000000   \n",
              "Profession      -0.001738  0.025572     -0.141169  0.039755  -0.298892   \n",
              "Work_Experience -0.026622 -0.060100     -0.099494 -0.196658   0.025257   \n",
              "Spending_Score  -0.018949 -0.054261     -0.626437 -0.269544  -0.153570   \n",
              "Family_Size      0.012567  0.054983     -0.081666 -0.284784  -0.228522   \n",
              "Var_1           -0.002053  0.030552      0.085389  0.168863   0.126231   \n",
              "\n",
              "                 Profession  Work_Experience  Spending_Score  Family_Size  \\\n",
              "ID                -0.001738        -0.026622       -0.018949     0.012567   \n",
              "Gender             0.025572        -0.060100       -0.054261     0.054983   \n",
              "Ever_Married      -0.141169        -0.099494       -0.626437    -0.081666   \n",
              "Age                0.039755        -0.196658       -0.269544    -0.284784   \n",
              "Graduated         -0.298892         0.025257       -0.153570    -0.228522   \n",
              "Profession         1.000000        -0.022210        0.230166     0.086263   \n",
              "Work_Experience   -0.022210         1.000000        0.049236    -0.055549   \n",
              "Spending_Score     0.230166         0.049236        1.000000    -0.111089   \n",
              "Family_Size        0.086263        -0.055549       -0.111089     1.000000   \n",
              "Var_1             -0.042973         0.017256       -0.033157    -0.144522   \n",
              "\n",
              "                    Var_1  \n",
              "ID              -0.002053  \n",
              "Gender           0.030552  \n",
              "Ever_Married     0.085389  \n",
              "Age              0.168863  \n",
              "Graduated        0.126231  \n",
              "Profession      -0.042973  \n",
              "Work_Experience  0.017256  \n",
              "Spending_Score  -0.033157  \n",
              "Family_Size     -0.144522  \n",
              "Var_1            1.000000  "
            ]
          },
          "metadata": {
            "tags": []
          },
          "execution_count": 18
        }
      ]
    },
    {
      "cell_type": "code",
      "metadata": {
        "id": "cxN-DGic5Ph3",
        "colab_type": "code",
        "colab": {
          "base_uri": "https://localhost:8080/",
          "height": 505
        },
        "outputId": "f8325b14-f871-4c21-adb4-9ff239ecaebc"
      },
      "source": [
        "#instantiate both packages to use\n",
        "encoder = OrdinalEncoder()\n",
        "imputer = KNN()\n",
        "# create a list of categorical columns to iterate over\n",
        "cat_cols = ['Gender','Ever_Married','Graduated','Profession','Spending_Score','Var_1']\n",
        "\n",
        "def encode(test_data):\n",
        "    '''function to encode non-null data and replace it in the original data'''\n",
        "    #retains only non-null values\n",
        "    nonulls = np.array(test_data.dropna())\n",
        "    #reshapes the data for encoding\n",
        "    impute_reshape = nonulls.reshape(-1,1)\n",
        "    #encode date\n",
        "    impute_ordinal = encoder.fit_transform(impute_reshape)\n",
        "    #Assign back encoded values to non-null values\n",
        "    test_data.loc[test_data.notnull()] = np.squeeze(impute_ordinal)\n",
        "    return test_data\n",
        "\n",
        "#create a for loop to iterate through each column in the data\n",
        "for columns in cat_cols:\n",
        "    encode(Test[columns])"
      ],
      "execution_count": 19,
      "outputs": [
        {
          "output_type": "stream",
          "text": [
            "/usr/local/lib/python3.6/dist-packages/pandas/core/indexing.py:671: SettingWithCopyWarning: \n",
            "A value is trying to be set on a copy of a slice from a DataFrame\n",
            "\n",
            "See the caveats in the documentation: https://pandas.pydata.org/pandas-docs/stable/user_guide/indexing.html#returning-a-view-versus-a-copy\n",
            "  self._setitem_with_indexer(indexer, value)\n",
            "/usr/local/lib/python3.6/dist-packages/pandas/core/indexing.py:671: SettingWithCopyWarning: \n",
            "A value is trying to be set on a copy of a slice from a DataFrame\n",
            "\n",
            "See the caveats in the documentation: https://pandas.pydata.org/pandas-docs/stable/user_guide/indexing.html#returning-a-view-versus-a-copy\n",
            "  self._setitem_with_indexer(indexer, value)\n",
            "/usr/local/lib/python3.6/dist-packages/pandas/core/indexing.py:671: SettingWithCopyWarning: \n",
            "A value is trying to be set on a copy of a slice from a DataFrame\n",
            "\n",
            "See the caveats in the documentation: https://pandas.pydata.org/pandas-docs/stable/user_guide/indexing.html#returning-a-view-versus-a-copy\n",
            "  self._setitem_with_indexer(indexer, value)\n",
            "/usr/local/lib/python3.6/dist-packages/pandas/core/indexing.py:671: SettingWithCopyWarning: \n",
            "A value is trying to be set on a copy of a slice from a DataFrame\n",
            "\n",
            "See the caveats in the documentation: https://pandas.pydata.org/pandas-docs/stable/user_guide/indexing.html#returning-a-view-versus-a-copy\n",
            "  self._setitem_with_indexer(indexer, value)\n",
            "/usr/local/lib/python3.6/dist-packages/pandas/core/indexing.py:671: SettingWithCopyWarning: \n",
            "A value is trying to be set on a copy of a slice from a DataFrame\n",
            "\n",
            "See the caveats in the documentation: https://pandas.pydata.org/pandas-docs/stable/user_guide/indexing.html#returning-a-view-versus-a-copy\n",
            "  self._setitem_with_indexer(indexer, value)\n",
            "/usr/local/lib/python3.6/dist-packages/pandas/core/indexing.py:671: SettingWithCopyWarning: \n",
            "A value is trying to be set on a copy of a slice from a DataFrame\n",
            "\n",
            "See the caveats in the documentation: https://pandas.pydata.org/pandas-docs/stable/user_guide/indexing.html#returning-a-view-versus-a-copy\n",
            "  self._setitem_with_indexer(indexer, value)\n"
          ],
          "name": "stderr"
        }
      ]
    },
    {
      "cell_type": "code",
      "metadata": {
        "id": "et_ojlhr5yA8",
        "colab_type": "code",
        "colab": {
          "base_uri": "https://localhost:8080/",
          "height": 456
        },
        "outputId": "f4a591b3-5601-42f5-cb59-77fb5056db75"
      },
      "source": [
        "encode_test_data = pd.DataFrame(np.round(imputer.fit_transform(Test)),columns = Test.columns)"
      ],
      "execution_count": 20,
      "outputs": [
        {
          "output_type": "stream",
          "text": [
            "Imputing row 1/2627 with 0 missing, elapsed time: 1.195\n",
            "Imputing row 101/2627 with 0 missing, elapsed time: 1.198\n",
            "Imputing row 201/2627 with 0 missing, elapsed time: 1.202\n",
            "Imputing row 301/2627 with 0 missing, elapsed time: 1.204\n",
            "Imputing row 401/2627 with 1 missing, elapsed time: 1.205\n",
            "Imputing row 501/2627 with 1 missing, elapsed time: 1.207\n",
            "Imputing row 601/2627 with 0 missing, elapsed time: 1.209\n",
            "Imputing row 701/2627 with 0 missing, elapsed time: 1.211\n",
            "Imputing row 801/2627 with 0 missing, elapsed time: 1.212\n",
            "Imputing row 901/2627 with 0 missing, elapsed time: 1.214\n",
            "Imputing row 1001/2627 with 0 missing, elapsed time: 1.215\n",
            "Imputing row 1101/2627 with 0 missing, elapsed time: 1.217\n",
            "Imputing row 1201/2627 with 1 missing, elapsed time: 1.218\n",
            "Imputing row 1301/2627 with 0 missing, elapsed time: 1.220\n",
            "Imputing row 1401/2627 with 0 missing, elapsed time: 1.222\n",
            "Imputing row 1501/2627 with 0 missing, elapsed time: 1.223\n",
            "Imputing row 1601/2627 with 0 missing, elapsed time: 1.225\n",
            "Imputing row 1701/2627 with 0 missing, elapsed time: 1.226\n",
            "Imputing row 1801/2627 with 0 missing, elapsed time: 1.228\n",
            "Imputing row 1901/2627 with 0 missing, elapsed time: 1.229\n",
            "Imputing row 2001/2627 with 0 missing, elapsed time: 1.230\n",
            "Imputing row 2101/2627 with 2 missing, elapsed time: 1.232\n",
            "Imputing row 2201/2627 with 0 missing, elapsed time: 1.233\n",
            "Imputing row 2301/2627 with 0 missing, elapsed time: 1.235\n",
            "Imputing row 2401/2627 with 1 missing, elapsed time: 1.236\n",
            "Imputing row 2501/2627 with 1 missing, elapsed time: 1.238\n",
            "Imputing row 2601/2627 with 0 missing, elapsed time: 1.240\n"
          ],
          "name": "stdout"
        }
      ]
    },
    {
      "cell_type": "code",
      "metadata": {
        "id": "3w4Ipi774HOK",
        "colab_type": "code",
        "colab": {}
      },
      "source": [
        "Segmentation = pd.Series(np.array(xgb.predict(encode_test_data)), name=\"Segmentation\")\n",
        "\n",
        "results = pd.concat([ID_main,Segmentation],axis=1)\n",
        "\n",
        "results.to_csv(\"submission.csv\",index=False)"
      ],
      "execution_count": 28,
      "outputs": []
    },
    {
      "cell_type": "code",
      "metadata": {
        "id": "WMR51AOP5Mx8",
        "colab_type": "code",
        "colab": {}
      },
      "source": [
        ""
      ],
      "execution_count": null,
      "outputs": []
    }
  ]
}